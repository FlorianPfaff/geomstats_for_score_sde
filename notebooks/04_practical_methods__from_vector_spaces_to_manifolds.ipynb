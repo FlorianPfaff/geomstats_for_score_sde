{
 "cells": [
  {
   "cell_type": "markdown",
   "metadata": {},
   "source": [
    "# From vector spaces to manifolds"
   ]
  },
  {
   "cell_type": "markdown",
   "metadata": {},
   "source": [
    "Lead author: Nina Miolane.\n",
    "\n",
    "## Set up"
   ]
  },
  {
   "cell_type": "markdown",
   "metadata": {},
   "source": [
    "Before starting this tutorial, we set the working directory to be the root of the geomstats repository. In order to have the code working on your machine, you need to change this path to the path of your geomstats repository."
   ]
  },
  {
   "cell_type": "code",
   "execution_count": null,
   "metadata": {},
   "outputs": [],
   "source": [
    "import os\n",
    "import subprocess\n",
    "\n",
    "geomstats_gitroot_path = subprocess.check_output(\n",
    "    [\"git\", \"rev-parse\", \"--show-toplevel\"], universal_newlines=True\n",
    ")\n",
    "\n",
    "os.chdir(geomstats_gitroot_path[:-1])\n",
    "\n",
    "print(\"Working directory: \", os.getcwd())"
   ]
  },
  {
   "cell_type": "markdown",
   "metadata": {},
   "source": [
    "We import the backend that will be used for geomstats computations and set a seed for reproducibility of the results."
   ]
  },
  {
   "cell_type": "code",
   "execution_count": null,
   "metadata": {},
   "outputs": [],
   "source": [
    "import geomstats.backend as gs\n",
    "\n",
    "gs.random.seed(2020)"
   ]
  },
  {
   "cell_type": "markdown",
   "metadata": {},
   "source": [
    "Finally, we import the visualization module."
   ]
  },
  {
   "cell_type": "code",
   "execution_count": null,
   "metadata": {},
   "outputs": [],
   "source": [
    "import matplotlib\n",
    "import matplotlib.image as mpimg\n",
    "import matplotlib.pyplot as plt\n",
    "\n",
    "import geomstats.visualization as visualization\n",
    "\n",
    "visualization.tutorial_matplotlib()"
   ]
  },
  {
   "cell_type": "markdown",
   "metadata": {},
   "source": [
    "## From vector spaces to manifolds"
   ]
  },
  {
   "cell_type": "markdown",
   "metadata": {},
   "source": [
    "In the previous tutorial, we visualized data that naturally belong to manifolds, i.e. generalizations of vector spaces that are allowed to have curvature. \n",
    "\n",
    "A simple example of such data is the coordinates of cities on the surface of the earth: they belong to a sphere, which is a manifold."
   ]
  },
  {
   "cell_type": "code",
   "execution_count": null,
   "metadata": {
    "scrolled": false
   },
   "outputs": [],
   "source": [
    "import geomstats.datasets.utils as data_utils\n",
    "\n",
    "data, names = data_utils.load_cities()\n",
    "\n",
    "fig = plt.figure(figsize=(10, 10))\n",
    "ax = fig.add_subplot(111, projection=\"3d\")\n",
    "\n",
    "visualization.plot(data[15:20], ax=ax, space=\"S2\", label=names[15:20], s=80, alpha=0.5)\n",
    "\n",
    "ax.set_title(\"Cities on the earth.\");"
   ]
  },
  {
   "cell_type": "markdown",
   "metadata": {},
   "source": [
    "The purpose of this tutorial is to show how we can perform elementary computations on such data."
   ]
  },
  {
   "cell_type": "markdown",
   "metadata": {},
   "source": [
    "## From addition to exponential map "
   ]
  },
  {
   "cell_type": "markdown",
   "metadata": {},
   "source": [
    "The elementary operations on a vector space are: addition, substraction and multiplication by a scalar. We can add a vector to a point, substract two points to get a vector, or multiply a vector by a scalar value."
   ]
  },
  {
   "cell_type": "code",
   "execution_count": null,
   "metadata": {},
   "outputs": [],
   "source": [
    "%matplotlib inline\n",
    "\n",
    "fig = plt.figure(figsize=(6, 6))\n",
    "ax = fig.add_subplot(111)\n",
    "\n",
    "point_a = gs.array([0, 1])\n",
    "point_b = gs.array([1, 2])\n",
    "vector = point_b - point_a\n",
    "\n",
    "ax.scatter(point_a, point_b, label=\"Points\")\n",
    "ax.arrow(\n",
    "    gs.to_numpy(point_a[0]),\n",
    "    gs.to_numpy(point_a[1]),\n",
    "    dx=gs.to_numpy(vector[0]),\n",
    "    dy=gs.to_numpy(vector[1]),\n",
    "    width=0.008,\n",
    "    length_includes_head=True,\n",
    "    color=\"black\",\n",
    ")\n",
    "\n",
    "ax.legend();"
   ]
  },
  {
   "cell_type": "markdown",
   "metadata": {},
   "source": [
    "For points on a manifold, like the sphere, the same operations are not permitted. Indeed, adding a vector to a point will not give a point that belongs to the manifold."
   ]
  },
  {
   "cell_type": "code",
   "execution_count": null,
   "metadata": {},
   "outputs": [],
   "source": [
    "fig = plt.figure(figsize=(10, 10))\n",
    "ax = fig.add_subplot(111, projection=\"3d\")\n",
    "\n",
    "paris = data[19]\n",
    "vector = gs.array([1, 0, 0.8])\n",
    "\n",
    "ax = visualization.plot(paris, ax=ax, space=\"S2\", s=200, alpha=0.8, label=\"Paris\")\n",
    "\n",
    "arrow = visualization.Arrow3D(paris, vector=vector)\n",
    "arrow.draw(ax, color=\"black\")\n",
    "ax.legend();"
   ]
  },
  {
   "cell_type": "markdown",
   "metadata": {},
   "source": [
    "The exponential map is the operation that generalizes the addition of a vector to a point, on manifolds. \n",
    "\n",
    "The exponential map takes a point and a tangent vector as inputs, and outputs the point on the manifold that is reached by \"shooting\" with the tangent vector. \"Shooting\" means taking the path of shortest length. This path is called a \"geodesic\"."
   ]
  },
  {
   "cell_type": "code",
   "execution_count": null,
   "metadata": {},
   "outputs": [],
   "source": [
    "from geomstats.geometry.hypersphere import Hypersphere\n",
    "\n",
    "sphere = Hypersphere(dim=2)\n",
    "\n",
    "paris = data[19]\n",
    "vector = gs.array([1, 0, 0.8])\n",
    "tangent_vector = sphere.to_tangent(vector, base_point=paris)\n",
    "\n",
    "result = sphere.metric.exp(tangent_vector, base_point=paris)\n",
    "\n",
    "geodesic = sphere.metric.geodesic(\n",
    "    initial_point=paris, initial_tangent_vec=tangent_vector\n",
    ")\n",
    "\n",
    "points_on_geodesic = geodesic(gs.linspace(0.0, 1.0, 30))"
   ]
  },
  {
   "cell_type": "code",
   "execution_count": null,
   "metadata": {},
   "outputs": [],
   "source": [
    "fig = plt.figure(figsize=(10, 10))\n",
    "ax = fig.add_subplot(111, projection=\"3d\")\n",
    "\n",
    "\n",
    "ax = visualization.plot(paris, ax=ax, space=\"S2\", s=100, alpha=0.8, label=\"Paris\")\n",
    "ax = visualization.plot(result, ax=ax, space=\"S2\", s=100, alpha=0.8, label=\"End point\")\n",
    "ax = visualization.plot(\n",
    "    points_on_geodesic, ax=ax, space=\"S2\", color=\"black\", label=\"Geodesic\"\n",
    ")\n",
    "\n",
    "arrow = visualization.Arrow3D(paris, vector=tangent_vector)\n",
    "arrow.draw(ax, color=\"black\")\n",
    "ax.legend();"
   ]
  },
  {
   "cell_type": "markdown",
   "metadata": {},
   "source": [
    "## From substraction to logarithm map"
   ]
  },
  {
   "cell_type": "markdown",
   "metadata": {},
   "source": [
    "The logarithm map is the operation that generalizes the substraction of two points, that gives a vector.\n",
    "\n",
    "The logarithm map takes two points on the manifold as inputs, and outputs the tangent vector that is required to \"shoot\" from one point to the other."
   ]
  },
  {
   "cell_type": "code",
   "execution_count": null,
   "metadata": {},
   "outputs": [],
   "source": [
    "paris = data[19]\n",
    "beijing = data[15]\n",
    "\n",
    "log = sphere.metric.log(point=beijing, base_point=paris)\n",
    "\n",
    "geodesic = sphere.metric.geodesic(initial_point=paris, end_point=beijing)\n",
    "\n",
    "points_on_geodesic = geodesic(gs.linspace(0.0, 1.0, 30))"
   ]
  },
  {
   "cell_type": "code",
   "execution_count": null,
   "metadata": {},
   "outputs": [],
   "source": [
    "fig = plt.figure(figsize=(10, 10))\n",
    "ax = fig.add_subplot(111, projection=\"3d\")\n",
    "\n",
    "ax = visualization.plot(paris, ax=ax, space=\"S2\", s=100, alpha=0.8, label=\"Paris\")\n",
    "ax = visualization.plot(beijing, ax=ax, space=\"S2\", s=100, alpha=0.8, label=\"Beijing\")\n",
    "ax = visualization.plot(\n",
    "    points_on_geodesic, ax=ax, space=\"S2\", color=\"black\", label=\"Geodesic\"\n",
    ")\n",
    "\n",
    "arrow = visualization.Arrow3D(paris, vector=log)\n",
    "arrow.draw(ax, color=\"black\")\n",
    "ax.legend();"
   ]
  },
  {
   "cell_type": "markdown",
   "metadata": {},
   "source": [
    "## Geodesics"
   ]
  },
  {
   "cell_type": "markdown",
   "metadata": {},
   "source": [
    "So far, we have given examples of geodesics on the sphere. The sphere is a simple manifold that is easy to visualize. Yet, `geomstats` provides many more manifolds, on which the exp and log are defined. Let's present a few more."
   ]
  },
  {
   "cell_type": "markdown",
   "metadata": {},
   "source": [
    "## Geodesics on the hyperbolic plane"
   ]
  },
  {
   "cell_type": "markdown",
   "metadata": {},
   "source": [
    "We consider the hyperbolic geometry here. We define two points on the hyperbolic plane and compute the geodesic between them."
   ]
  },
  {
   "cell_type": "code",
   "execution_count": null,
   "metadata": {},
   "outputs": [],
   "source": [
    "from geomstats.geometry.hyperboloid import Hyperboloid\n",
    "\n",
    "hyperbolic = Hyperboloid(dim=2, default_coords_type=\"extrinsic\")\n",
    "\n",
    "initial_point = gs.array([gs.sqrt(2.0), 1.0, 0.0])\n",
    "end_point = gs.array([2.5, 2.5])\n",
    "end_point = hyperbolic.from_coordinates(end_point, \"intrinsic\")\n",
    "\n",
    "geodesic = hyperbolic.metric.geodesic(initial_point=initial_point, end_point=end_point)\n",
    "\n",
    "points = geodesic(gs.linspace(0.0, 1.0, 10))"
   ]
  },
  {
   "cell_type": "markdown",
   "metadata": {},
   "source": [
    "We use the visualization module to plot the two points and the geodesic between them. We can choose the visualization we prefer for points on the hyperbolic plane. First we visualize with the Poincare disk representation."
   ]
  },
  {
   "cell_type": "code",
   "execution_count": null,
   "metadata": {},
   "outputs": [],
   "source": [
    "fig = plt.figure(figsize=(8, 8))\n",
    "ax = fig.add_subplot(111)\n",
    "\n",
    "representation = \"H2_poincare_disk\"\n",
    "\n",
    "ax = visualization.plot(\n",
    "    initial_point, ax=ax, space=representation, s=50, label=\"Initial point\"\n",
    ")\n",
    "ax = visualization.plot(end_point, ax=ax, space=representation, s=50, label=\"End point\")\n",
    "\n",
    "ax = visualization.plot(\n",
    "    points[1:-1], ax=ax, space=representation, s=5, color=\"black\", label=\"Geodesic\"\n",
    ")\n",
    "ax.set_title(\"Geodesic on the hyperbolic plane in Poincare disk representation\")\n",
    "ax.legend();"
   ]
  },
  {
   "cell_type": "markdown",
   "metadata": {},
   "source": [
    "We can visualize the same geodesic in Klein disk representation."
   ]
  },
  {
   "cell_type": "code",
   "execution_count": null,
   "metadata": {},
   "outputs": [],
   "source": [
    "fig = plt.figure(figsize=(8, 8))\n",
    "ax = fig.add_subplot(111)\n",
    "\n",
    "representation = \"H2_klein_disk\"\n",
    "\n",
    "ax = visualization.plot(\n",
    "    initial_point, ax=ax, space=representation, s=50, label=\"Initial point\"\n",
    ")\n",
    "ax = visualization.plot(end_point, ax=ax, space=representation, s=50, label=\"End point\")\n",
    "\n",
    "ax = visualization.plot(\n",
    "    points[1:-1], ax=ax, space=representation, s=5, color=\"black\", label=\"Geodesic\"\n",
    ")\n",
    "ax.set_title(\"Geodesic on the hyperbolic plane in Klein disk representation\")\n",
    "ax.legend();"
   ]
  },
  {
   "cell_type": "markdown",
   "metadata": {},
   "source": [
    "## Geodesics on the special euclidean group SE(3)"
   ]
  },
  {
   "cell_type": "markdown",
   "metadata": {},
   "source": [
    "We consider the special euclidean group in 3D, which is the group of 3D rotations and 3D translations. One element of this group can be represented by a frame, oriented by the 3D rotation, and located by the 3D translation from the origin. \n",
    "\n",
    "We create two points in SE(3), and compute the geodesic between them."
   ]
  },
  {
   "cell_type": "code",
   "execution_count": null,
   "metadata": {},
   "outputs": [],
   "source": [
    "from geomstats.geometry.special_euclidean import SpecialEuclidean\n",
    "\n",
    "se3 = SpecialEuclidean(n=3, point_type=\"vector\")\n",
    "metric = se3.left_canonical_metric\n",
    "\n",
    "initial_point = se3.identity\n",
    "initial_tangent_vec = gs.array([1.8, 0.2, 0.3, 3.0, 3.0, 1.0])\n",
    "geodesic = metric.geodesic(\n",
    "    initial_point=initial_point, initial_tangent_vec=initial_tangent_vec\n",
    ")\n",
    "\n",
    "points = geodesic(gs.linspace(-3.0, 3.0, 40))"
   ]
  },
  {
   "cell_type": "markdown",
   "metadata": {},
   "source": [
    "We visualize the geodesic in the group SE(3), which is a path of frames in 3D."
   ]
  },
  {
   "cell_type": "code",
   "execution_count": null,
   "metadata": {
    "tags": [
     "nbsphinx-thumbnail"
    ]
   },
   "outputs": [],
   "source": [
    "fig = plt.figure(figsize=(8, 8))\n",
    "ax = fig.add_subplot(111, projection=\"3d\")\n",
    "\n",
    "visualization.plot(points, ax=ax, space=\"SE3_GROUP\");"
   ]
  }
 ],
 "metadata": {
  "celltoolbar": "Tags",
  "kernelspec": {
   "display_name": "Python 3",
   "language": "python",
   "name": "python3"
  },
  "language_info": {
   "codemirror_mode": {
    "name": "ipython",
    "version": 3
   },
   "file_extension": ".py",
   "mimetype": "text/x-python",
   "name": "python",
   "nbconvert_exporter": "python",
   "pygments_lexer": "ipython3",
   "version": "3.11.0 (main, Oct 25 2022, 13:57:33) [Clang 14.0.0 (clang-1400.0.29.202)]"
  },
  "vscode": {
   "interpreter": {
    "hash": "5c7b89af1651d0b8571dde13640ecdccf7d5a6204171d6ab33e7c296e100e08a"
   }
  }
 },
 "nbformat": 4,
 "nbformat_minor": 4
}
